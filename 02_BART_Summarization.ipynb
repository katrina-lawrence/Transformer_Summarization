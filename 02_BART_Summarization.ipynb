{
 "cells": [
  {
   "cell_type": "markdown",
   "metadata": {},
   "source": [
    "# Document Summarization\n",
    "Will use the transformers library from Hugging Face to summarize text. Hugging Face is an open-source platform and provides pre-trained models. I will use the pre-trained BART model. The architecture of this model is encoder-decoder therefore it is well suited for text generation and sequence to sequence tasks like summarization, translation and paraphrasing. \n",
    "\n",
    "\n",
    "Will extend this project by building a transformer model from scratch and comparing the summerization results with the pre-trained transformer model from Hugging Face.\n"
   ]
  },
  {
   "cell_type": "markdown",
   "metadata": {},
   "source": []
  },
  {
   "cell_type": "code",
   "execution_count": 2,
   "metadata": {},
   "outputs": [],
   "source": [
    "#installations\n",
    "#!pip install transformers\n",
    "#!pip install torch"
   ]
  },
  {
   "cell_type": "code",
   "execution_count": 2,
   "metadata": {},
   "outputs": [
    {
     "name": "stderr",
     "output_type": "stream",
     "text": [
      "C:\\Users\\lawre\\AppData\\Local\\Packages\\PythonSoftwareFoundation.Python.3.11_qbz5n2kfra8p0\\LocalCache\\local-packages\\Python311\\site-packages\\tqdm\\auto.py:21: TqdmWarning: IProgress not found. Please update jupyter and ipywidgets. See https://ipywidgets.readthedocs.io/en/stable/user_install.html\n",
      "  from .autonotebook import tqdm as notebook_tqdm\n"
     ]
    }
   ],
   "source": [
    "#imports\n",
    "import torch\n",
    "from transformers import BartTokenizer, BartForConditionalGeneration"
   ]
  },
  {
   "cell_type": "code",
   "execution_count": 3,
   "metadata": {},
   "outputs": [
    {
     "name": "stderr",
     "output_type": "stream",
     "text": [
      "C:\\Users\\lawre\\AppData\\Local\\Packages\\PythonSoftwareFoundation.Python.3.11_qbz5n2kfra8p0\\LocalCache\\local-packages\\Python311\\site-packages\\huggingface_hub\\file_download.py:159: UserWarning: `huggingface_hub` cache-system uses symlinks by default to efficiently store duplicated files but your machine does not support them in C:\\Users\\lawre\\.cache\\huggingface\\hub\\models--facebook--bart-large-cnn. Caching files will still work but in a degraded version that might require more space on your disk. This warning can be disabled by setting the `HF_HUB_DISABLE_SYMLINKS_WARNING` environment variable. For more details, see https://huggingface.co/docs/huggingface_hub/how-to-cache#limitations.\n",
      "To support symlinks on Windows, you either need to activate Developer Mode or to run Python as an administrator. In order to see activate developer mode, see this article: https://docs.microsoft.com/en-us/windows/apps/get-started/enable-your-device-for-development\n",
      "  warnings.warn(message)\n",
      "C:\\Users\\lawre\\AppData\\Local\\Packages\\PythonSoftwareFoundation.Python.3.11_qbz5n2kfra8p0\\LocalCache\\local-packages\\Python311\\site-packages\\transformers\\tokenization_utils_base.py:1601: FutureWarning: `clean_up_tokenization_spaces` was not set. It will be set to `True` by default. This behavior will be depracted in transformers v4.45, and will be then set to `False` by default. For more details check this issue: https://github.com/huggingface/transformers/issues/31884\n",
      "  warnings.warn(\n"
     ]
    }
   ],
   "source": [
    "#loading the BART tokenizer and model \n",
    "tokenizer = BartTokenizer.from_pretrained('facebook/bart-large-cnn')\n",
    "model = BartForConditionalGeneration.from_pretrained('facebook/bart-large-cnn')"
   ]
  },
  {
   "cell_type": "code",
   "execution_count": 4,
   "metadata": {},
   "outputs": [],
   "source": [
    "#Defining the summarization function\n",
    "\n",
    "def summarize(text, max_summary_length=100):\n",
    "    # Tokenize the input text\n",
    "    inputs = tokenizer.encode(\"summarize: \" + text, return_tensors=\"pt\", max_length=1024, truncation=True)\n",
    "    \n",
    "    # Generate the summary using the model\n",
    "    summary_ids = model.generate(inputs, max_length=max_summary_length, min_length=30, length_penalty=2.0, num_beams=4, early_stopping=True)\n",
    "    \n",
    "    # Decode the generated summary\n",
    "    summary = tokenizer.decode(summary_ids[0], skip_special_tokens=True)\n",
    "    \n",
    "    return summary"
   ]
  },
  {
   "cell_type": "code",
   "execution_count": 5,
   "metadata": {},
   "outputs": [
    {
     "name": "stdout",
     "output_type": "stream",
     "text": [
      "Original Text:\n",
      " \n",
      "Artificial Intelligence (AI) is rapidly transforming the world we live in. From self-driving cars to personalized medicine, AI has the potential to revolutionize nearly every industry. AI refers to the simulation of human intelligence in machines that are programmed to think and act like humans. These intelligent systems are capable of learning, reasoning, problem-solving, and making decisions, often surpassing human capabilities in specific tasks. However, as AI continues to advance, it raises ethical concerns about privacy, security, and job displacement. The future of AI is both exciting and uncertain, as researchers work to create systems that are not only intelligent but also ethical and safe for society. With proper regulation and innovation, AI could lead to a more efficient and prosperous future, benefiting humanity in ways we can only begin to imagine.\n",
      "\n",
      "\n",
      "Generated Summary:\n",
      " Artificial Intelligence (AI) is rapidly transforming the world we live in. From self-driving cars to personalized medicine, AI has the potential to revolutionize nearly every industry. However, as AI continues to advance, it raises ethical concerns about privacy, security, and job displacement.\n"
     ]
    }
   ],
   "source": [
    "# Example input text (a long document or article)\n",
    "text = \"\"\"\n",
    "Artificial Intelligence (AI) is rapidly transforming the world we live in. From self-driving cars to personalized medicine, AI has the potential to revolutionize nearly every industry. AI refers to the simulation of human intelligence in machines that are programmed to think and act like humans. These intelligent systems are capable of learning, reasoning, problem-solving, and making decisions, often surpassing human capabilities in specific tasks. However, as AI continues to advance, it raises ethical concerns about privacy, security, and job displacement. The future of AI is both exciting and uncertain, as researchers work to create systems that are not only intelligent but also ethical and safe for society. With proper regulation and innovation, AI could lead to a more efficient and prosperous future, benefiting humanity in ways we can only begin to imagine.\n",
    "\"\"\"\n",
    "\n",
    "# Generate a summary of the text\n",
    "summary = summarize(text)\n",
    "print(\"Original Text:\\n\", text)\n",
    "print(\"\\nGenerated Summary:\\n\", summary)"
   ]
  },
  {
   "cell_type": "code",
   "execution_count": null,
   "metadata": {},
   "outputs": [],
   "source": []
  }
 ],
 "metadata": {
  "kernelspec": {
   "display_name": "Python 3",
   "language": "python",
   "name": "python3"
  },
  "language_info": {
   "codemirror_mode": {
    "name": "ipython",
    "version": 3
   },
   "file_extension": ".py",
   "mimetype": "text/x-python",
   "name": "python",
   "nbconvert_exporter": "python",
   "pygments_lexer": "ipython3",
   "version": "3.11.9"
  }
 },
 "nbformat": 4,
 "nbformat_minor": 2
}
